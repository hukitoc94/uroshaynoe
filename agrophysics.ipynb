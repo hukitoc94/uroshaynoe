{
 "cells": [
  {
   "cell_type": "code",
   "execution_count": 2,
   "metadata": {},
   "outputs": [],
   "source": [
    "from preparing_script import agrofiz_plot, SVD_vis, Kvu, ob_ves_plot\n",
    "import pandas as pd \n",
    "import numpy as np \n",
    "import scipy \n",
    "from scipy.stats import f_oneway as ANOVA\n",
    "\n",
    "import seaborn as sns \n",
    "import matplotlib.pyplot as plt\n",
    "\n",
    "%load_ext autoreload\n",
    "%autoreload 2\n"
   ]
  },
  {
   "cell_type": "code",
   "execution_count": 3,
   "metadata": {},
   "outputs": [],
   "source": [
    "agrofiz = pd.read_csv(\"data/агрофизика_курск.csv\")\n"
   ]
  },
  {
   "cell_type": "code",
   "execution_count": 4,
   "metadata": {},
   "outputs": [
    {
     "data": {
      "text/plain": [
       "Index(['Год', 'GPS №', 'Тип обработки', 'повторность',\n",
       "       'Содержание 0.25–10 мм, %', 'Содержание >10, %', 'Содержание <0.25, %',\n",
       "       'Коэф. структурности', 'СВД, мм', 'СВД водоустойчивые 10-7, мм',\n",
       "       'СВД водоустойчивые 5-3, мм', 'СВД водоустойчивые 7-5, мм',\n",
       "       'СВД водоустойчивые >10, мм'],\n",
       "      dtype='object')"
      ]
     },
     "execution_count": 4,
     "metadata": {},
     "output_type": "execute_result"
    }
   ],
   "source": [
    "agrofiz.columns"
   ]
  },
  {
   "cell_type": "markdown",
   "metadata": {},
   "source": [
    "### Коэф структурности"
   ]
  },
  {
   "cell_type": "code",
   "execution_count": 5,
   "metadata": {},
   "outputs": [
    {
     "data": {
      "text/plain": [
       "F_onewayResult(statistic=0.23028053682673266, pvalue=0.6441613429091824)"
      ]
     },
     "execution_count": 5,
     "metadata": {},
     "output_type": "execute_result"
    },
    {
     "data": {
      "image/png": "[encoded data removed]",
      "text/plain": [
       "<Figure size 504x504 with 1 Axes>"
      ]
     },
     "metadata": {},
     "output_type": "display_data"
    }
   ],
   "source": [
    "stats, aov, fig = agrofiz_plot(agrofiz, 'Коэф. структурности')\n",
    "aov\n"
   ]
  },
  {
   "cell_type": "code",
   "execution_count": 6,
   "metadata": {},
   "outputs": [
    {
     "data": {
      "text/html": [
       "<div>\n",
       "<style scoped>\n",
       "    .dataframe tbody tr th:only-of-type {\n",
       "        vertical-align: middle;\n",
       "    }\n",
       "\n",
       "    .dataframe tbody tr th {\n",
       "        vertical-align: top;\n",
       "    }\n",
       "\n",
       "    .dataframe thead tr th {\n",
       "        text-align: left;\n",
       "    }\n",
       "\n",
       "    .dataframe thead tr:last-of-type th {\n",
       "        text-align: right;\n",
       "    }\n",
       "</style>\n",
       "<table border=\"1\" class=\"dataframe\">\n",
       "  <thead>\n",
       "    <tr>\n",
       "      <th></th>\n",
       "      <th colspan=\"3\" halign=\"left\">Коэф. структурности</th>\n",
       "    </tr>\n",
       "    <tr>\n",
       "      <th></th>\n",
       "      <th>mean</th>\n",
       "      <th>std</th>\n",
       "      <th>variation</th>\n",
       "    </tr>\n",
       "    <tr>\n",
       "      <th>Тип обработки</th>\n",
       "      <th></th>\n",
       "      <th></th>\n",
       "      <th></th>\n",
       "    </tr>\n",
       "  </thead>\n",
       "  <tbody>\n",
       "    <tr>\n",
       "      <th>ПП</th>\n",
       "      <td>0.754630</td>\n",
       "      <td>0.196471</td>\n",
       "      <td>0.232868</td>\n",
       "    </tr>\n",
       "    <tr>\n",
       "      <th>ТТ</th>\n",
       "      <td>0.879442</td>\n",
       "      <td>0.547391</td>\n",
       "      <td>0.556718</td>\n",
       "    </tr>\n",
       "  </tbody>\n",
       "</table>\n",
       "</div>"
      ],
      "text/plain": [
       "              Коэф. структурности                    \n",
       "                             mean       std variation\n",
       "Тип обработки                                        \n",
       "ПП                       0.754630  0.196471  0.232868\n",
       "ТТ                       0.879442  0.547391  0.556718"
      ]
     },
     "execution_count": 6,
     "metadata": {},
     "output_type": "execute_result"
    }
   ],
   "source": [
    "stats"
   ]
  },
  {
   "cell_type": "markdown",
   "metadata": {},
   "source": [
    "### СВД воздушно сухие"
   ]
  },
  {
   "cell_type": "code",
   "execution_count": 7,
   "metadata": {},
   "outputs": [
    {
     "data": {
      "text/plain": [
       "F_onewayResult(statistic=0.10092454302937497, pvalue=0.7588565913465707)"
      ]
     },
     "execution_count": 7,
     "metadata": {},
     "output_type": "execute_result"
    },
    {
     "data": {
      "image/png": "[encoded data removed]",
      "text/plain": [
       "<Figure size 504x504 with 1 Axes>"
      ]
     },
     "metadata": {},
     "output_type": "display_data"
    }
   ],
   "source": [
    "stats, aov, fig = agrofiz_plot(agrofiz, 'СВД, мм')\n",
    "aov\n"
   ]
  },
  {
   "cell_type": "code",
   "execution_count": 8,
   "metadata": {},
   "outputs": [
    {
     "data": {
      "text/html": [
       "<div>\n",
       "<style scoped>\n",
       "    .dataframe tbody tr th:only-of-type {\n",
       "        vertical-align: middle;\n",
       "    }\n",
       "\n",
       "    .dataframe tbody tr th {\n",
       "        vertical-align: top;\n",
       "    }\n",
       "\n",
       "    .dataframe thead tr th {\n",
       "        text-align: left;\n",
       "    }\n",
       "\n",
       "    .dataframe thead tr:last-of-type th {\n",
       "        text-align: right;\n",
       "    }\n",
       "</style>\n",
       "<table border=\"1\" class=\"dataframe\">\n",
       "  <thead>\n",
       "    <tr>\n",
       "      <th></th>\n",
       "      <th colspan=\"3\" halign=\"left\">СВД, мм</th>\n",
       "    </tr>\n",
       "    <tr>\n",
       "      <th></th>\n",
       "      <th>mean</th>\n",
       "      <th>std</th>\n",
       "      <th>variation</th>\n",
       "    </tr>\n",
       "    <tr>\n",
       "      <th>Тип обработки</th>\n",
       "      <th></th>\n",
       "      <th></th>\n",
       "      <th></th>\n",
       "    </tr>\n",
       "  </thead>\n",
       "  <tbody>\n",
       "    <tr>\n",
       "      <th>ПП</th>\n",
       "      <td>8.893845</td>\n",
       "      <td>0.617618</td>\n",
       "      <td>0.062112</td>\n",
       "    </tr>\n",
       "    <tr>\n",
       "      <th>ТТ</th>\n",
       "      <td>8.663036</td>\n",
       "      <td>1.502589</td>\n",
       "      <td>0.155137</td>\n",
       "    </tr>\n",
       "  </tbody>\n",
       "</table>\n",
       "</div>"
      ],
      "text/plain": [
       "                СВД, мм                    \n",
       "                   mean       std variation\n",
       "Тип обработки                              \n",
       "ПП             8.893845  0.617618  0.062112\n",
       "ТТ             8.663036  1.502589  0.155137"
      ]
     },
     "execution_count": 8,
     "metadata": {},
     "output_type": "execute_result"
    }
   ],
   "source": [
    "stats"
   ]
  },
  {
   "cell_type": "markdown",
   "metadata": {},
   "source": [
    "### СВД водоустойчивые "
   ]
  },
  {
   "cell_type": "code",
   "execution_count": 9,
   "metadata": {},
   "outputs": [
    {
     "data": {
      "image/png": "[encoded data removed]",
      "text/plain": [
       "<Figure size 216x216 with 1 Axes>"
      ]
     },
     "metadata": {},
     "output_type": "display_data"
    },
    {
     "data": {
      "text/html": [
       "<div>\n",
       "<style scoped>\n",
       "    .dataframe tbody tr th:only-of-type {\n",
       "        vertical-align: middle;\n",
       "    }\n",
       "\n",
       "    .dataframe tbody tr th {\n",
       "        vertical-align: top;\n",
       "    }\n",
       "\n",
       "    .dataframe thead th {\n",
       "        text-align: right;\n",
       "    }\n",
       "</style>\n",
       "<table border=\"1\" class=\"dataframe\">\n",
       "  <thead>\n",
       "    <tr style=\"text-align: right;\">\n",
       "      <th></th>\n",
       "      <th>агрегаты</th>\n",
       "      <th>P-val</th>\n",
       "    </tr>\n",
       "  </thead>\n",
       "  <tbody>\n",
       "    <tr>\n",
       "      <th>0</th>\n",
       "      <td>СВД водоустойчивые &gt;10, мм</td>\n",
       "      <td>0.186344</td>\n",
       "    </tr>\n",
       "    <tr>\n",
       "      <th>1</th>\n",
       "      <td>СВД водоустойчивые 10-7, мм</td>\n",
       "      <td>0.240456</td>\n",
       "    </tr>\n",
       "    <tr>\n",
       "      <th>2</th>\n",
       "      <td>СВД водоустойчивые 7-5, мм</td>\n",
       "      <td>0.034019</td>\n",
       "    </tr>\n",
       "    <tr>\n",
       "      <th>3</th>\n",
       "      <td>СВД водоустойчивые 5-3, мм</td>\n",
       "      <td>0.056940</td>\n",
       "    </tr>\n",
       "  </tbody>\n",
       "</table>\n",
       "</div>"
      ],
      "text/plain": [
       "                      агрегаты     P-val\n",
       "0   СВД водоустойчивые >10, мм  0.186344\n",
       "1  СВД водоустойчивые 10-7, мм  0.240456\n",
       "2   СВД водоустойчивые 7-5, мм  0.034019\n",
       "3   СВД водоустойчивые 5-3, мм  0.056940"
      ]
     },
     "execution_count": 9,
     "metadata": {},
     "output_type": "execute_result"
    }
   ],
   "source": [
    "\n",
    "\n",
    "stats, aov, fig = SVD_vis(agrofiz)\n",
    "aov"
   ]
  },
  {
   "cell_type": "code",
   "execution_count": 10,
   "metadata": {},
   "outputs": [
    {
     "data": {
      "text/html": [
       "<div>\n",
       "<style scoped>\n",
       "    .dataframe tbody tr th:only-of-type {\n",
       "        vertical-align: middle;\n",
       "    }\n",
       "\n",
       "    .dataframe tbody tr th {\n",
       "        vertical-align: top;\n",
       "    }\n",
       "\n",
       "    .dataframe thead tr th {\n",
       "        text-align: left;\n",
       "    }\n",
       "\n",
       "    .dataframe thead tr:last-of-type th {\n",
       "        text-align: right;\n",
       "    }\n",
       "</style>\n",
       "<table border=\"1\" class=\"dataframe\">\n",
       "  <thead>\n",
       "    <tr>\n",
       "      <th></th>\n",
       "      <th colspan=\"3\" halign=\"left\">СВД водоустойчивые &gt;10, мм</th>\n",
       "      <th colspan=\"3\" halign=\"left\">СВД водоустойчивые 10-7, мм</th>\n",
       "      <th colspan=\"3\" halign=\"left\">СВД водоустойчивые 7-5, мм</th>\n",
       "      <th colspan=\"3\" halign=\"left\">СВД водоустойчивые 5-3, мм</th>\n",
       "    </tr>\n",
       "    <tr>\n",
       "      <th></th>\n",
       "      <th>mean</th>\n",
       "      <th>std</th>\n",
       "      <th>variation</th>\n",
       "      <th>mean</th>\n",
       "      <th>std</th>\n",
       "      <th>variation</th>\n",
       "      <th>mean</th>\n",
       "      <th>std</th>\n",
       "      <th>variation</th>\n",
       "      <th>mean</th>\n",
       "      <th>std</th>\n",
       "      <th>variation</th>\n",
       "    </tr>\n",
       "    <tr>\n",
       "      <th>Тип обработки</th>\n",
       "      <th></th>\n",
       "      <th></th>\n",
       "      <th></th>\n",
       "      <th></th>\n",
       "      <th></th>\n",
       "      <th></th>\n",
       "      <th></th>\n",
       "      <th></th>\n",
       "      <th></th>\n",
       "      <th></th>\n",
       "      <th></th>\n",
       "      <th></th>\n",
       "    </tr>\n",
       "  </thead>\n",
       "  <tbody>\n",
       "    <tr>\n",
       "      <th>ПП</th>\n",
       "      <td>3.295025</td>\n",
       "      <td>2.009017</td>\n",
       "      <td>0.545343</td>\n",
       "      <td>2.101775</td>\n",
       "      <td>0.695570</td>\n",
       "      <td>0.296005</td>\n",
       "      <td>1.256225</td>\n",
       "      <td>0.164303</td>\n",
       "      <td>0.116983</td>\n",
       "      <td>0.887775</td>\n",
       "      <td>0.121113</td>\n",
       "      <td>0.122021</td>\n",
       "    </tr>\n",
       "    <tr>\n",
       "      <th>ТТ</th>\n",
       "      <td>5.220113</td>\n",
       "      <td>2.198381</td>\n",
       "      <td>0.376676</td>\n",
       "      <td>2.665062</td>\n",
       "      <td>0.709159</td>\n",
       "      <td>0.238002</td>\n",
       "      <td>1.557938</td>\n",
       "      <td>0.206979</td>\n",
       "      <td>0.118829</td>\n",
       "      <td>1.057750</td>\n",
       "      <td>0.120711</td>\n",
       "      <td>0.102072</td>\n",
       "    </tr>\n",
       "  </tbody>\n",
       "</table>\n",
       "</div>"
      ],
      "text/plain": [
       "              СВД водоустойчивые >10, мм                      \\\n",
       "                                    mean       std variation   \n",
       "Тип обработки                                                  \n",
       "ПП                              3.295025  2.009017  0.545343   \n",
       "ТТ                              5.220113  2.198381  0.376676   \n",
       "\n",
       "              СВД водоустойчивые 10-7, мм                      \\\n",
       "                                     mean       std variation   \n",
       "Тип обработки                                                   \n",
       "ПП                               2.101775  0.695570  0.296005   \n",
       "ТТ                               2.665062  0.709159  0.238002   \n",
       "\n",
       "              СВД водоустойчивые 7-5, мм                      \\\n",
       "                                    mean       std variation   \n",
       "Тип обработки                                                  \n",
       "ПП                              1.256225  0.164303  0.116983   \n",
       "ТТ                              1.557938  0.206979  0.118829   \n",
       "\n",
       "              СВД водоустойчивые 5-3, мм                      \n",
       "                                    mean       std variation  \n",
       "Тип обработки                                                 \n",
       "ПП                              0.887775  0.121113  0.122021  \n",
       "ТТ                              1.057750  0.120711  0.102072  "
      ]
     },
     "execution_count": 10,
     "metadata": {},
     "output_type": "execute_result"
    }
   ],
   "source": [
    "stats"
   ]
  }
 ],
 "metadata": {
  "kernelspec": {
   "display_name": "Python 3.8.5 64-bit (system)",
   "language": "python",
   "name": "python3"
  },
  "language_info": {
   "codemirror_mode": {
    "name": "ipython",
    "version": 3
   },
   "file_extension": ".py",
   "mimetype": "text/x-python",
   "name": "python",
   "nbconvert_exporter": "python",
   "pygments_lexer": "ipython3",
   "version": "3.8.5"
  },
  "orig_nbformat": 4,
  "vscode": {
   "interpreter": {
    "hash": "ad2bdc8ecc057115af97d19610ffacc2b4e99fae6737bb82f5d7fb13d2f2c186"
   }
  }
 },
 "nbformat": 4,
 "nbformat_minor": 2
}
